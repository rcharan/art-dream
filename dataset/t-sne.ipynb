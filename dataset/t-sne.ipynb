{
 "cells": [
  {
   "cell_type": "markdown",
   "metadata": {},
   "source": [
    "### Imports"
   ]
  },
  {
   "cell_type": "code",
   "execution_count": 1,
   "metadata": {},
   "outputs": [],
   "source": [
    "from tensorflow.keras.models import load_model\n",
    "import pandas as pd\n",
    "import pathlib\n",
    "import tensorflow as tf\n",
    "import os\n",
    "import tensorflow.keras.applications     as     applications\n",
    "from tensorflow.keras.models import Sequential\n",
    "from tensorflow.keras.layers import Dropout\n",
    "import numpy as np\n",
    "from sklearn.metrics import classification_report\n",
    "from sklearn.metrics import confusion_matrix\n",
    "import matplotlib.pyplot as plt\n",
    "from sklearn.metrics import ConfusionMatrixDisplay\n",
    "import seaborn as sns\n",
    "from sklearn.decomposition import PCA\n",
    "from sklearn.manifold      import TSNE\n",
    "import seaborn as sns"
   ]
  },
  {
   "cell_type": "code",
   "execution_count": 52,
   "metadata": {},
   "outputs": [],
   "source": [
    "sns.set_context('talk')\n",
    "sns.set_style('dark')"
   ]
  },
  {
   "cell_type": "code",
   "execution_count": 2,
   "metadata": {},
   "outputs": [],
   "source": [
    "%load_ext autoreload\n",
    "%autoreload 2"
   ]
  },
  {
   "cell_type": "code",
   "execution_count": 3,
   "metadata": {},
   "outputs": [],
   "source": [
    "import sys\n",
    "sys.path.append('../utilities/')\n",
    "from utilities import Timer, show_image, DreamImage, DeepDream, class_names, ProgressBar, plot_confusion_matrix"
   ]
  },
  {
   "cell_type": "markdown",
   "metadata": {},
   "source": [
    "### Setup"
   ]
  },
  {
   "cell_type": "code",
   "execution_count": 4,
   "metadata": {},
   "outputs": [],
   "source": [
    "sns.set()\n",
    "\n",
    "AUTOTUNE = tf.data.experimental.AUTOTUNE\n",
    "\n",
    "width = height = 224\n",
    "batch_size = 32"
   ]
  },
  {
   "cell_type": "markdown",
   "metadata": {},
   "source": [
    "### Load the Model"
   ]
  },
  {
   "cell_type": "code",
   "execution_count": 6,
   "metadata": {},
   "outputs": [],
   "source": [
    "model_name = 'vgg19-INet-down2-b'\n",
    "base_model = load_model(f'../classification/logs/models/{model_name}.hdf5')\n",
    "\n",
    "# Remove dropout\n",
    "model = Sequential()\n",
    "for layer in base_model.layers[:-1]:\n",
    "    if isinstance(layer, Dropout):\n",
    "        pass\n",
    "    else:\n",
    "        model.add(layer)"
   ]
  },
  {
   "cell_type": "markdown",
   "metadata": {},
   "source": [
    "### Load the Data in Special Form"
   ]
  },
  {
   "cell_type": "code",
   "execution_count": 7,
   "metadata": {},
   "outputs": [],
   "source": [
    "# Load the list of file names in the form of data_dir/class_name/file_name.jpg\n",
    "data_subdir = 'test'\n",
    "data_dir = pathlib.Path('../dataset/images/') / pathlib.Path(data_subdir)\n",
    "list_ds = tf.data.Dataset.list_files(str(data_dir/'*/*'))\n",
    "\n",
    "dataset_size = len(list(list_ds))"
   ]
  },
  {
   "cell_type": "code",
   "execution_count": 8,
   "metadata": {},
   "outputs": [],
   "source": [
    "# Function to get the label\n",
    "#  Modification: get just the class name, not the vector\n",
    "def get_label(file_path):\n",
    "    parts = tf.strings.split(file_path, os.path.sep)\n",
    "    return parts[-2]\n",
    "\n",
    "# Function to get the image\n",
    "def decode_img(file_path):\n",
    "    # Load the image\n",
    "    img = tf.io.read_file(file_path)\n",
    "    img = tf.image.decode_jpeg(img, channels=3)\n",
    "\n",
    "    # Resize\n",
    "    return tf.image.resize(img, [width, height])\n",
    "\n",
    "# Preprocess\n",
    "def preprocess_img(img, label, file_path):\n",
    "    return applications.vgg19.preprocess_input(img), label, file_path"
   ]
  },
  {
   "cell_type": "code",
   "execution_count": 9,
   "metadata": {},
   "outputs": [],
   "source": [
    "# Combine both processes\n",
    "def process_path(file_path):\n",
    "    return decode_img(file_path), get_label(file_path), file_path"
   ]
  },
  {
   "cell_type": "code",
   "execution_count": 10,
   "metadata": {},
   "outputs": [],
   "source": [
    "def embed_image(img_batch, label_batch, file_path_batch):\n",
    "    return model(img_batch), label_batch, file_path_batch"
   ]
  },
  {
   "cell_type": "code",
   "execution_count": 11,
   "metadata": {
    "scrolled": false
   },
   "outputs": [],
   "source": [
    "# Create the dataset\n",
    "ds = list_ds.map(process_path, num_parallel_calls=AUTOTUNE)\n",
    "ds = ds.map(preprocess_img)\n",
    "ds = ds.batch(batch_size).prefetch(buffer_size = AUTOTUNE)\n",
    "ds = ds.map(embed_image)\n",
    "ds = ds.cache()"
   ]
  },
  {
   "cell_type": "markdown",
   "metadata": {},
   "source": [
    "### Compute Embedding on the Dataset"
   ]
  },
  {
   "cell_type": "markdown",
   "metadata": {},
   "source": [
    "Commented out because this is slow; only do once"
   ]
  },
  {
   "cell_type": "code",
   "execution_count": 12,
   "metadata": {},
   "outputs": [],
   "source": [
    "# bar = ProgressBar(dataset_size // batch_size + 1)\n",
    "\n",
    "# class_batches     = []\n",
    "# label_batches     = []\n",
    "# file_path_batches = []\n",
    "# bar.start()\n",
    "# iterations = 0\n",
    "# for class_batch, label_batch, file_path_batch in ds:\n",
    "#     class_batches.append(class_batch)\n",
    "#     label_batches.append(label_batch)\n",
    "#     file_path_batches.append(file_path_batch)\n",
    "#     iterations+=1\n",
    "#     bar.update(iterations)"
   ]
  },
  {
   "cell_type": "markdown",
   "metadata": {},
   "source": [
    "### Extract Embeddings into a Convenient Numpy Array"
   ]
  },
  {
   "cell_type": "code",
   "execution_count": 16,
   "metadata": {},
   "outputs": [],
   "source": [
    "# Convert to a single array\n",
    "def concat_batches(batch_list):\n",
    "    batch_list = [tensor.numpy() for tensor in batch_list]\n",
    "    return np.concatenate(batch_list)\n",
    "\n",
    "embedding  = concat_batches(class_batches)\n",
    "labels     = concat_batches(label_batches)\n",
    "file_paths = concat_batches(file_path_batches)\n",
    "\n",
    "df = pd.concat([pd.Series(labels, name = 'artist'), pd.Series(file_paths, name = 'file_path'), pd.DataFrame(embedding)], axis = 'columns')\n",
    "df.to_csv(f'{model_name}-embedding.csv')"
   ]
  },
  {
   "cell_type": "markdown",
   "metadata": {},
   "source": [
    "### Load the Data"
   ]
  },
  {
   "cell_type": "code",
   "execution_count": 44,
   "metadata": {},
   "outputs": [
    {
     "name": "stdout",
     "output_type": "stream",
     "text": [
      "2941 samples, 4096 neurons\n",
      "2813 of the neurons are dead\n",
      "Summary of the percentage of the time each neuron activates\n",
      "count    1283.000000\n",
      "mean        0.015131\n",
      "std         0.059972\n",
      "min         0.000340\n",
      "25%         0.000680\n",
      "50%         0.001700\n",
      "75%         0.006800\n",
      "max         0.550833\n",
      "dtype: float64\n"
     ]
    }
   ],
   "source": [
    "model_name = 'vgg19-INet-down2-b'\n",
    "df = pd.read_csv(f'{model_name}-embedding.csv', index_col=0)\n",
    "\n",
    "meta_data_cols = ['artist', 'file_path']\n",
    "meta_data = df[meta_data_cols]\n",
    "\n",
    "data = df.drop(meta_data_cols, axis = 'columns')\n",
    "print(f'{len(df)} samples, {data.shape[1]} neurons')\n",
    "\n",
    "# Embarassingly, 2813 of the 4096 neurons have died and never activate\n",
    "num_zeros_in_col = (data == 0).sum()\n",
    "is_dead_col      = num_zeros_in_col == len(data)\n",
    "print(f'{is_dead_col.sum()} of the neurons are dead')\n",
    "\n",
    "# Let's drop the offending columns\n",
    "data = data.drop(is_dead_col[is_dead_col].index.tolist(), axis = 'columns')\n",
    "print(f'Summary of the percentage of the time each living neuron activates')\n",
    "print((data != 0).mean().describe())"
   ]
  },
  {
   "cell_type": "code",
   "execution_count": 46,
   "metadata": {},
   "outputs": [],
   "source": [
    "pca = PCA(n_components=50, random_state = 42)"
   ]
  },
  {
   "cell_type": "code",
   "execution_count": 47,
   "metadata": {},
   "outputs": [],
   "source": [
    "data_pcaed = pca.fit_transform(data)"
   ]
  },
  {
   "cell_type": "code",
   "execution_count": 53,
   "metadata": {},
   "outputs": [
    {
     "data": {
      "text/html": [
       "<div>\n",
       "<style scoped>\n",
       "    .dataframe tbody tr th:only-of-type {\n",
       "        vertical-align: middle;\n",
       "    }\n",
       "\n",
       "    .dataframe tbody tr th {\n",
       "        vertical-align: top;\n",
       "    }\n",
       "\n",
       "    .dataframe thead th {\n",
       "        text-align: right;\n",
       "    }\n",
       "</style>\n",
       "<table border=\"1\" class=\"dataframe\">\n",
       "  <thead>\n",
       "    <tr style=\"text-align: right;\">\n",
       "      <th></th>\n",
       "      <th>0</th>\n",
       "      <th>1</th>\n",
       "      <th>2</th>\n",
       "      <th>3</th>\n",
       "      <th>4</th>\n",
       "      <th>5</th>\n",
       "      <th>6</th>\n",
       "      <th>7</th>\n",
       "      <th>8</th>\n",
       "      <th>9</th>\n",
       "      <th>...</th>\n",
       "      <th>40</th>\n",
       "      <th>41</th>\n",
       "      <th>42</th>\n",
       "      <th>43</th>\n",
       "      <th>44</th>\n",
       "      <th>45</th>\n",
       "      <th>46</th>\n",
       "      <th>47</th>\n",
       "      <th>48</th>\n",
       "      <th>49</th>\n",
       "    </tr>\n",
       "  </thead>\n",
       "  <tbody>\n",
       "    <tr>\n",
       "      <th>0</th>\n",
       "      <td>4.892086</td>\n",
       "      <td>-5.522586</td>\n",
       "      <td>47.732862</td>\n",
       "      <td>-31.990748</td>\n",
       "      <td>6.567371</td>\n",
       "      <td>-12.643597</td>\n",
       "      <td>-7.233413</td>\n",
       "      <td>-6.142749</td>\n",
       "      <td>-16.854956</td>\n",
       "      <td>44.170211</td>\n",
       "      <td>...</td>\n",
       "      <td>7.784182</td>\n",
       "      <td>1.461763</td>\n",
       "      <td>-5.985889</td>\n",
       "      <td>-2.022709</td>\n",
       "      <td>-1.801923</td>\n",
       "      <td>-0.991873</td>\n",
       "      <td>3.023692</td>\n",
       "      <td>-2.250994</td>\n",
       "      <td>-1.552175</td>\n",
       "      <td>-3.159682</td>\n",
       "    </tr>\n",
       "    <tr>\n",
       "      <th>1</th>\n",
       "      <td>4.473963</td>\n",
       "      <td>-7.170889</td>\n",
       "      <td>-15.339654</td>\n",
       "      <td>-4.041886</td>\n",
       "      <td>6.044818</td>\n",
       "      <td>1.109875</td>\n",
       "      <td>0.411673</td>\n",
       "      <td>-8.503962</td>\n",
       "      <td>-4.123009</td>\n",
       "      <td>-1.517648</td>\n",
       "      <td>...</td>\n",
       "      <td>7.092055</td>\n",
       "      <td>-0.825971</td>\n",
       "      <td>1.370573</td>\n",
       "      <td>-2.873106</td>\n",
       "      <td>-0.902847</td>\n",
       "      <td>3.136550</td>\n",
       "      <td>-2.277053</td>\n",
       "      <td>0.927152</td>\n",
       "      <td>1.718873</td>\n",
       "      <td>2.627172</td>\n",
       "    </tr>\n",
       "    <tr>\n",
       "      <th>2</th>\n",
       "      <td>9.427109</td>\n",
       "      <td>-11.150616</td>\n",
       "      <td>-21.235184</td>\n",
       "      <td>3.278773</td>\n",
       "      <td>11.649579</td>\n",
       "      <td>-7.105455</td>\n",
       "      <td>-7.835313</td>\n",
       "      <td>-12.275794</td>\n",
       "      <td>-7.906952</td>\n",
       "      <td>-8.826778</td>\n",
       "      <td>...</td>\n",
       "      <td>3.142667</td>\n",
       "      <td>-2.515524</td>\n",
       "      <td>1.514547</td>\n",
       "      <td>2.293885</td>\n",
       "      <td>-0.984948</td>\n",
       "      <td>1.210498</td>\n",
       "      <td>-1.521036</td>\n",
       "      <td>1.809598</td>\n",
       "      <td>2.651290</td>\n",
       "      <td>-0.005578</td>\n",
       "    </tr>\n",
       "    <tr>\n",
       "      <th>3</th>\n",
       "      <td>15.676716</td>\n",
       "      <td>-22.659795</td>\n",
       "      <td>43.501320</td>\n",
       "      <td>11.642479</td>\n",
       "      <td>-51.932691</td>\n",
       "      <td>25.176981</td>\n",
       "      <td>20.759345</td>\n",
       "      <td>31.923070</td>\n",
       "      <td>-0.203171</td>\n",
       "      <td>-34.258228</td>\n",
       "      <td>...</td>\n",
       "      <td>-4.258977</td>\n",
       "      <td>-4.056597</td>\n",
       "      <td>-3.312956</td>\n",
       "      <td>2.350663</td>\n",
       "      <td>-2.254147</td>\n",
       "      <td>-1.486126</td>\n",
       "      <td>1.959238</td>\n",
       "      <td>-0.153623</td>\n",
       "      <td>4.080725</td>\n",
       "      <td>1.334131</td>\n",
       "    </tr>\n",
       "    <tr>\n",
       "      <th>4</th>\n",
       "      <td>-215.098724</td>\n",
       "      <td>153.603521</td>\n",
       "      <td>26.261389</td>\n",
       "      <td>89.139371</td>\n",
       "      <td>-7.031368</td>\n",
       "      <td>33.059331</td>\n",
       "      <td>-43.361523</td>\n",
       "      <td>-13.223167</td>\n",
       "      <td>-7.202605</td>\n",
       "      <td>-24.463132</td>\n",
       "      <td>...</td>\n",
       "      <td>3.760449</td>\n",
       "      <td>4.929800</td>\n",
       "      <td>0.310561</td>\n",
       "      <td>-4.245099</td>\n",
       "      <td>0.857347</td>\n",
       "      <td>1.538947</td>\n",
       "      <td>6.229873</td>\n",
       "      <td>-1.832022</td>\n",
       "      <td>1.054687</td>\n",
       "      <td>-1.302777</td>\n",
       "    </tr>\n",
       "    <tr>\n",
       "      <th>...</th>\n",
       "      <td>...</td>\n",
       "      <td>...</td>\n",
       "      <td>...</td>\n",
       "      <td>...</td>\n",
       "      <td>...</td>\n",
       "      <td>...</td>\n",
       "      <td>...</td>\n",
       "      <td>...</td>\n",
       "      <td>...</td>\n",
       "      <td>...</td>\n",
       "      <td>...</td>\n",
       "      <td>...</td>\n",
       "      <td>...</td>\n",
       "      <td>...</td>\n",
       "      <td>...</td>\n",
       "      <td>...</td>\n",
       "      <td>...</td>\n",
       "      <td>...</td>\n",
       "      <td>...</td>\n",
       "      <td>...</td>\n",
       "      <td>...</td>\n",
       "    </tr>\n",
       "    <tr>\n",
       "      <th>2936</th>\n",
       "      <td>-11.495814</td>\n",
       "      <td>1.895466</td>\n",
       "      <td>-14.384186</td>\n",
       "      <td>-20.926899</td>\n",
       "      <td>2.935505</td>\n",
       "      <td>-1.296770</td>\n",
       "      <td>27.445991</td>\n",
       "      <td>1.464296</td>\n",
       "      <td>13.270634</td>\n",
       "      <td>-10.389638</td>\n",
       "      <td>...</td>\n",
       "      <td>2.196619</td>\n",
       "      <td>-8.903481</td>\n",
       "      <td>0.759318</td>\n",
       "      <td>0.432827</td>\n",
       "      <td>-7.526903</td>\n",
       "      <td>5.490114</td>\n",
       "      <td>-1.394030</td>\n",
       "      <td>4.538586</td>\n",
       "      <td>-1.057966</td>\n",
       "      <td>-9.591357</td>\n",
       "    </tr>\n",
       "    <tr>\n",
       "      <th>2937</th>\n",
       "      <td>-25.909632</td>\n",
       "      <td>18.036576</td>\n",
       "      <td>-24.832946</td>\n",
       "      <td>-25.147073</td>\n",
       "      <td>-7.374236</td>\n",
       "      <td>84.590614</td>\n",
       "      <td>-20.199449</td>\n",
       "      <td>-16.192588</td>\n",
       "      <td>33.579688</td>\n",
       "      <td>5.653789</td>\n",
       "      <td>...</td>\n",
       "      <td>5.006880</td>\n",
       "      <td>1.704553</td>\n",
       "      <td>0.352254</td>\n",
       "      <td>1.128569</td>\n",
       "      <td>2.214462</td>\n",
       "      <td>0.178021</td>\n",
       "      <td>-1.466828</td>\n",
       "      <td>2.356975</td>\n",
       "      <td>-4.567921</td>\n",
       "      <td>-2.227706</td>\n",
       "    </tr>\n",
       "    <tr>\n",
       "      <th>2938</th>\n",
       "      <td>-36.185040</td>\n",
       "      <td>13.012886</td>\n",
       "      <td>12.405160</td>\n",
       "      <td>-24.971518</td>\n",
       "      <td>-9.698784</td>\n",
       "      <td>3.818076</td>\n",
       "      <td>-2.473670</td>\n",
       "      <td>-25.814237</td>\n",
       "      <td>-5.500328</td>\n",
       "      <td>36.714973</td>\n",
       "      <td>...</td>\n",
       "      <td>-6.920764</td>\n",
       "      <td>-0.090423</td>\n",
       "      <td>8.635006</td>\n",
       "      <td>-5.066324</td>\n",
       "      <td>0.368925</td>\n",
       "      <td>6.691568</td>\n",
       "      <td>-3.321797</td>\n",
       "      <td>-3.007966</td>\n",
       "      <td>-1.314530</td>\n",
       "      <td>2.342439</td>\n",
       "    </tr>\n",
       "    <tr>\n",
       "      <th>2939</th>\n",
       "      <td>-216.980876</td>\n",
       "      <td>153.875662</td>\n",
       "      <td>31.308621</td>\n",
       "      <td>88.571835</td>\n",
       "      <td>-0.943511</td>\n",
       "      <td>-7.275101</td>\n",
       "      <td>-14.863258</td>\n",
       "      <td>-9.596872</td>\n",
       "      <td>-17.102019</td>\n",
       "      <td>-18.973136</td>\n",
       "      <td>...</td>\n",
       "      <td>5.165232</td>\n",
       "      <td>3.903945</td>\n",
       "      <td>2.754182</td>\n",
       "      <td>-0.816093</td>\n",
       "      <td>-1.107803</td>\n",
       "      <td>0.871340</td>\n",
       "      <td>2.848738</td>\n",
       "      <td>-5.542742</td>\n",
       "      <td>6.321832</td>\n",
       "      <td>-4.552751</td>\n",
       "    </tr>\n",
       "    <tr>\n",
       "      <th>2940</th>\n",
       "      <td>11.147936</td>\n",
       "      <td>-12.359823</td>\n",
       "      <td>-11.635046</td>\n",
       "      <td>3.762691</td>\n",
       "      <td>-7.200132</td>\n",
       "      <td>-21.548204</td>\n",
       "      <td>-15.229184</td>\n",
       "      <td>-4.757940</td>\n",
       "      <td>8.694112</td>\n",
       "      <td>-2.990659</td>\n",
       "      <td>...</td>\n",
       "      <td>3.826302</td>\n",
       "      <td>-2.654490</td>\n",
       "      <td>-1.212121</td>\n",
       "      <td>-0.648794</td>\n",
       "      <td>1.673966</td>\n",
       "      <td>0.620092</td>\n",
       "      <td>1.706286</td>\n",
       "      <td>0.144511</td>\n",
       "      <td>0.108772</td>\n",
       "      <td>0.677166</td>\n",
       "    </tr>\n",
       "  </tbody>\n",
       "</table>\n",
       "<p>2941 rows × 50 columns</p>\n",
       "</div>"
      ],
      "text/plain": [
       "              0           1          2          3          4          5   \\\n",
       "0       4.892086   -5.522586  47.732862 -31.990748   6.567371 -12.643597   \n",
       "1       4.473963   -7.170889 -15.339654  -4.041886   6.044818   1.109875   \n",
       "2       9.427109  -11.150616 -21.235184   3.278773  11.649579  -7.105455   \n",
       "3      15.676716  -22.659795  43.501320  11.642479 -51.932691  25.176981   \n",
       "4    -215.098724  153.603521  26.261389  89.139371  -7.031368  33.059331   \n",
       "...          ...         ...        ...        ...        ...        ...   \n",
       "2936  -11.495814    1.895466 -14.384186 -20.926899   2.935505  -1.296770   \n",
       "2937  -25.909632   18.036576 -24.832946 -25.147073  -7.374236  84.590614   \n",
       "2938  -36.185040   13.012886  12.405160 -24.971518  -9.698784   3.818076   \n",
       "2939 -216.980876  153.875662  31.308621  88.571835  -0.943511  -7.275101   \n",
       "2940   11.147936  -12.359823 -11.635046   3.762691  -7.200132 -21.548204   \n",
       "\n",
       "             6          7          8          9   ...        40        41  \\\n",
       "0     -7.233413  -6.142749 -16.854956  44.170211  ...  7.784182  1.461763   \n",
       "1      0.411673  -8.503962  -4.123009  -1.517648  ...  7.092055 -0.825971   \n",
       "2     -7.835313 -12.275794  -7.906952  -8.826778  ...  3.142667 -2.515524   \n",
       "3     20.759345  31.923070  -0.203171 -34.258228  ... -4.258977 -4.056597   \n",
       "4    -43.361523 -13.223167  -7.202605 -24.463132  ...  3.760449  4.929800   \n",
       "...         ...        ...        ...        ...  ...       ...       ...   \n",
       "2936  27.445991   1.464296  13.270634 -10.389638  ...  2.196619 -8.903481   \n",
       "2937 -20.199449 -16.192588  33.579688   5.653789  ...  5.006880  1.704553   \n",
       "2938  -2.473670 -25.814237  -5.500328  36.714973  ... -6.920764 -0.090423   \n",
       "2939 -14.863258  -9.596872 -17.102019 -18.973136  ...  5.165232  3.903945   \n",
       "2940 -15.229184  -4.757940   8.694112  -2.990659  ...  3.826302 -2.654490   \n",
       "\n",
       "            42        43        44        45        46        47        48  \\\n",
       "0    -5.985889 -2.022709 -1.801923 -0.991873  3.023692 -2.250994 -1.552175   \n",
       "1     1.370573 -2.873106 -0.902847  3.136550 -2.277053  0.927152  1.718873   \n",
       "2     1.514547  2.293885 -0.984948  1.210498 -1.521036  1.809598  2.651290   \n",
       "3    -3.312956  2.350663 -2.254147 -1.486126  1.959238 -0.153623  4.080725   \n",
       "4     0.310561 -4.245099  0.857347  1.538947  6.229873 -1.832022  1.054687   \n",
       "...        ...       ...       ...       ...       ...       ...       ...   \n",
       "2936  0.759318  0.432827 -7.526903  5.490114 -1.394030  4.538586 -1.057966   \n",
       "2937  0.352254  1.128569  2.214462  0.178021 -1.466828  2.356975 -4.567921   \n",
       "2938  8.635006 -5.066324  0.368925  6.691568 -3.321797 -3.007966 -1.314530   \n",
       "2939  2.754182 -0.816093 -1.107803  0.871340  2.848738 -5.542742  6.321832   \n",
       "2940 -1.212121 -0.648794  1.673966  0.620092  1.706286  0.144511  0.108772   \n",
       "\n",
       "            49  \n",
       "0    -3.159682  \n",
       "1     2.627172  \n",
       "2    -0.005578  \n",
       "3     1.334131  \n",
       "4    -1.302777  \n",
       "...        ...  \n",
       "2936 -9.591357  \n",
       "2937 -2.227706  \n",
       "2938  2.342439  \n",
       "2939 -4.552751  \n",
       "2940  0.677166  \n",
       "\n",
       "[2941 rows x 50 columns]"
      ]
     },
     "execution_count": 53,
     "metadata": {},
     "output_type": "execute_result"
    }
   ],
   "source": [
    "pd.DataFrame(data_pcaed)"
   ]
  },
  {
   "cell_type": "code",
   "execution_count": 57,
   "metadata": {},
   "outputs": [],
   "source": [
    "tsne = TSNE(random_state = 42, n_jobs = 3, verbose=1)"
   ]
  },
  {
   "cell_type": "code",
   "execution_count": 61,
   "metadata": {},
   "outputs": [
    {
     "name": "stdout",
     "output_type": "stream",
     "text": [
      "[t-SNE] Computing 91 nearest neighbors...\n",
      "[t-SNE] Indexed 2941 samples in 0.006s...\n",
      "[t-SNE] Computed neighbors for 2941 samples in 0.318s...\n",
      "[t-SNE] Computed conditional probabilities for sample 1000 / 2941\n",
      "[t-SNE] Computed conditional probabilities for sample 2000 / 2941\n",
      "[t-SNE] Computed conditional probabilities for sample 2941 / 2941\n",
      "[t-SNE] Mean sigma: 10.706505\n",
      "[t-SNE] KL divergence after 250 iterations with early exaggeration: 75.232101\n",
      "[t-SNE] KL divergence after 1000 iterations: 1.134203\n"
     ]
    }
   ],
   "source": [
    "data_tsned = tsne.fit_transform(data_pcaed)"
   ]
  },
  {
   "cell_type": "code",
   "execution_count": 79,
   "metadata": {},
   "outputs": [],
   "source": [
    "embedding = pd.DataFrame(data_tsned)\n",
    "embedding.rename({0 : 'x', 1 : 'y'}, axis = 'columns', inplace = True)\n",
    "\n",
    "embedding = pd.concat([meta_data, embedding], axis = 'columns')"
   ]
  },
  {
   "cell_type": "code",
   "execution_count": 92,
   "metadata": {},
   "outputs": [
    {
     "data": {
      "image/png": "[encoded data removed]",
      "text/plain": [
       "<Figure size 432x288 with 1 Axes>"
      ]
     },
     "metadata": {},
     "output_type": "display_data"
    }
   ],
   "source": [
    "sns.scatterplot(x = 'x', y = 'y', hue = 'artist', data = embedding, legend=False);"
   ]
  }
 ],
 "metadata": {
  "kernelspec": {
   "display_name": "tensorflow",
   "language": "python",
   "name": "tensorflow"
  },
  "language_info": {
   "codemirror_mode": {
    "name": "ipython",
    "version": 3
   },
   "file_extension": ".py",
   "mimetype": "text/x-python",
   "name": "python",
   "nbconvert_exporter": "python",
   "pygments_lexer": "ipython3",
   "version": "3.7.6"
  }
 },
 "nbformat": 4,
 "nbformat_minor": 2
}
